{
  "nbformat": 4,
  "nbformat_minor": 0,
  "metadata": {
    "colab": {
      "name": "0 - Introduction and Summary.ipynb",
      "provenance": []
    },
    "kernelspec": {
      "name": "python3",
      "display_name": "Python 3"
    },
    "language_info": {
      "name": "python"
    }
  },
  "cells": [
    {
      "cell_type": "markdown",
      "metadata": {
        "id": "ImSOAkijb3Z0"
      },
      "source": [
        "# Project Description (from Project Proposal)\n",
        "\n",
        "For my project, I will scrape political tweets from Twitter, build a dataset of tweets labeled by political party, and train a classification algorithm to classify tweets by political party. This project is interesting because it will involve analyzing the content of tweets by politicians, giving insight into the priorities of politicians from each party and how they communicate.\n",
        "The project will involve the following steps:\n",
        "1.  Scrape tweets from the Twitter accounts of politicians. There are various blog articles available online showing how to scrape tweets. Twitter’s API, Tweepy, is one possibility, though it looks like that has some limitations.\n",
        "2.  Clean and label gathered tweet data, to create a dataset where each line is a tweet, and each tweet is a sequence of words without any extra punctuation. This will include tokenization and eliminating stop words, to simplify the dataset and make it more suitable for the next steps. Each tweet will be labeled with the political party of the politician who posted the tweet.\n",
        "3.  Perform some exploratory data analysis on the dataset, to see if there are interesting patterns in which words are commonly used by politicians from each party.\n",
        "4.  Train classification algorithms on the dataset, to create a classification model that classifies tweets according to the political party of the poster. I have not yet gone through that part of the course, so I am not sure about the details here yet.\n",
        "\n",
        "My project will be successful if I am successfully able to construct the dataset of tweets, and if I am able to train a classifier that is somewhat successful at classifying political tweets. I think that I should certainly be able to achieve an accuracy over 50%, however I expect that I won’t be able to get close to perfect accuracy, given the nature of tweets. My guess is that somewhere around 60% to 70% would be good performance."
      ]
    },
    {
      "cell_type": "markdown",
      "metadata": {
        "id": "d4le92wjap-e"
      },
      "source": [
        "# Project Outline\n",
        "\n",
        "The work for this project is divided into several Jupyter notebooks. Each Jupyter notebook contains code that accomplishes its tasks, as well as explanation of the code to serve as documentation.\n",
        "\n",
        "Here is the summary of what is accomplished in each notebook.\n",
        "\n",
        "0.   This notebook: introduction and summary of the project.\n",
        "1.   Using Tweepy and the Twitter API to scrape tweets, building the dataset.\n",
        "2.   Loading and combining data into a dataframe, additional data structures. This includes parsing the tweets into individual words, stemmed and with stop words removed. Since this code sets up the data for analysis, this code is repeated in other notebooks.\n",
        "3.   Building a topic model for democrats and for republicans, and finding the most frequent words mentioned by democrats and republicans.\n",
        "4.   Dividing the dataset into a training set and a testing set, and using the training set to create a topic model for democrats and for republicans. A maximum likelihood classifier is applied to the testing set, to predict whether the tweeter is a democrat or a republican. The prediction is compared with the tweeter's actual party, to evaluate the accuracy of the classifier.\n",
        "5.   Building an LDA model to extract natural topics from the dataset. The results are then compared with party classification, to see if the mined topics correlate with political party.\n",
        "6.   Conclusion, including a discussion of results and ideas for future extensions of this project."
      ]
    }
  ]
}